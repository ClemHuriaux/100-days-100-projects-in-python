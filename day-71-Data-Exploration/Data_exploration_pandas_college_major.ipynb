{
  "nbformat": 4,
  "nbformat_minor": 0,
  "metadata": {
    "colab": {
      "name": "Data exploration pandas college major.ipynb",
      "provenance": [],
      "toc_visible": true
    },
    "kernelspec": {
      "name": "python3",
      "display_name": "Python 3"
    }
  },
  "cells": [
    {
      "cell_type": "code",
      "metadata": {
        "colab": {
          "base_uri": "https://localhost:8080/"
        },
        "id": "E2AIGG8hDJoK",
        "outputId": "ba2450fd-e4bb-4632-8e35-77905979268d"
      },
      "source": [
        "import pandas as pd\r\n",
        "df = pd.read_csv('salaries_by_college_major.csv')\r\n",
        "df.shape"
      ],
      "execution_count": 7,
      "outputs": [
        {
          "output_type": "execute_result",
          "data": {
            "text/plain": [
              "(51, 6)"
            ]
          },
          "metadata": {
            "tags": []
          },
          "execution_count": 7
        }
      ]
    },
    {
      "cell_type": "code",
      "metadata": {
        "colab": {
          "base_uri": "https://localhost:8080/"
        },
        "id": "xLbK2FcpDwI6",
        "outputId": "1be00447-5caa-4746-aace-dc70d996935b"
      },
      "source": [
        "clean_df = df.dropna()\r\n",
        "clean_df.shape"
      ],
      "execution_count": 9,
      "outputs": [
        {
          "output_type": "execute_result",
          "data": {
            "text/plain": [
              "(50, 6)"
            ]
          },
          "metadata": {
            "tags": []
          },
          "execution_count": 9
        }
      ]
    },
    {
      "cell_type": "code",
      "metadata": {
        "colab": {
          "base_uri": "https://localhost:8080/"
        },
        "id": "6YcIGIPKEidK",
        "outputId": "f3a6e3f2-df6b-4d49-b5ee-32779d8ca6e4"
      },
      "source": [
        "id_max = clean_df['Starting Median Salary'].idxmax()\r\n",
        "clean_df.loc[id_max]"
      ],
      "execution_count": 11,
      "outputs": [
        {
          "output_type": "execute_result",
          "data": {
            "text/plain": [
              "Undergraduate Major                  Physician Assistant\n",
              "Starting Median Salary                             74300\n",
              "Mid-Career Median Salary                           91700\n",
              "Mid-Career 10th Percentile Salary                  66400\n",
              "Mid-Career 90th Percentile Salary                 124000\n",
              "Group                                               STEM\n",
              "Name: 43, dtype: object"
            ]
          },
          "metadata": {
            "tags": []
          },
          "execution_count": 11
        }
      ]
    },
    {
      "cell_type": "code",
      "metadata": {
        "colab": {
          "base_uri": "https://localhost:8080/",
          "height": 69
        },
        "id": "PYZ3sEdgE4Uh",
        "outputId": "86d55904-012d-425d-9fe3-05a66f4c3268"
      },
      "source": [
        "print(clean_df['Mid-Career Median Salary'].max())\r\n",
        "print(f\"Index for the max mid career salary: {clean_df['Mid-Career Median Salary'].idxmax()}\")\r\n",
        "clean_df['Undergraduate Major'][8]"
      ],
      "execution_count": 16,
      "outputs": [
        {
          "output_type": "stream",
          "text": [
            "107000.0\n",
            "Index for the max mid career salary: 8\n"
          ],
          "name": "stdout"
        },
        {
          "output_type": "execute_result",
          "data": {
            "application/vnd.google.colaboratory.intrinsic+json": {
              "type": "string"
            },
            "text/plain": [
              "'Chemical Engineering'"
            ]
          },
          "metadata": {
            "tags": []
          },
          "execution_count": 16
        }
      ]
    },
    {
      "cell_type": "code",
      "metadata": {
        "colab": {
          "base_uri": "https://localhost:8080/",
          "height": 52
        },
        "id": "mNug85gaFTxt",
        "outputId": "b5ef43df-363b-494f-b5b2-c7c65d9f7e3b"
      },
      "source": [
        "print(clean_df['Starting Median Salary'].min())\r\n",
        "clean_df['Undergraduate Major'].loc[clean_df['Starting Median Salary'].idxmin()]"
      ],
      "execution_count": 17,
      "outputs": [
        {
          "output_type": "stream",
          "text": [
            "34000.0\n"
          ],
          "name": "stdout"
        },
        {
          "output_type": "execute_result",
          "data": {
            "application/vnd.google.colaboratory.intrinsic+json": {
              "type": "string"
            },
            "text/plain": [
              "'Spanish'"
            ]
          },
          "metadata": {
            "tags": []
          },
          "execution_count": 17
        }
      ]
    },
    {
      "cell_type": "code",
      "metadata": {
        "colab": {
          "base_uri": "https://localhost:8080/"
        },
        "id": "g0qWFed-F9Ye",
        "outputId": "4b6374af-4244-4379-8d94-f983899d653b"
      },
      "source": [
        "clean_df.loc[clean_df['Mid-Career Median Salary'].idxmin()]"
      ],
      "execution_count": 18,
      "outputs": [
        {
          "output_type": "execute_result",
          "data": {
            "text/plain": [
              "Undergraduate Major                  Education\n",
              "Starting Median Salary                   34900\n",
              "Mid-Career Median Salary                 52000\n",
              "Mid-Career 10th Percentile Salary        29300\n",
              "Mid-Career 90th Percentile Salary       102000\n",
              "Group                                     HASS\n",
              "Name: 18, dtype: object"
            ]
          },
          "metadata": {
            "tags": []
          },
          "execution_count": 18
        }
      ]
    },
    {
      "cell_type": "code",
      "metadata": {
        "colab": {
          "base_uri": "https://localhost:8080/",
          "height": 204
        },
        "id": "Spevr3dbGCE2",
        "outputId": "0ebd073d-ba07-4f68-b49f-509f3e911c4f"
      },
      "source": [
        "spread_col = clean_df['Mid-Career 90th Percentile Salary'].subtract(clean_df['Mid-Career 10th Percentile Salary'])\r\n",
        "clean_df.insert(1, 'Spread', spread_col)\r\n",
        "clean_df.head()"
      ],
      "execution_count": 21,
      "outputs": [
        {
          "output_type": "execute_result",
          "data": {
            "text/html": [
              "<div>\n",
              "<style scoped>\n",
              "    .dataframe tbody tr th:only-of-type {\n",
              "        vertical-align: middle;\n",
              "    }\n",
              "\n",
              "    .dataframe tbody tr th {\n",
              "        vertical-align: top;\n",
              "    }\n",
              "\n",
              "    .dataframe thead th {\n",
              "        text-align: right;\n",
              "    }\n",
              "</style>\n",
              "<table border=\"1\" class=\"dataframe\">\n",
              "  <thead>\n",
              "    <tr style=\"text-align: right;\">\n",
              "      <th></th>\n",
              "      <th>Undergraduate Major</th>\n",
              "      <th>Spread</th>\n",
              "      <th>Starting Median Salary</th>\n",
              "      <th>Mid-Career Median Salary</th>\n",
              "      <th>Mid-Career 10th Percentile Salary</th>\n",
              "      <th>Mid-Career 90th Percentile Salary</th>\n",
              "      <th>Group</th>\n",
              "    </tr>\n",
              "  </thead>\n",
              "  <tbody>\n",
              "    <tr>\n",
              "      <th>0</th>\n",
              "      <td>Accounting</td>\n",
              "      <td>109800.0</td>\n",
              "      <td>46000.0</td>\n",
              "      <td>77100.0</td>\n",
              "      <td>42200.0</td>\n",
              "      <td>152000.0</td>\n",
              "      <td>Business</td>\n",
              "    </tr>\n",
              "    <tr>\n",
              "      <th>1</th>\n",
              "      <td>Aerospace Engineering</td>\n",
              "      <td>96700.0</td>\n",
              "      <td>57700.0</td>\n",
              "      <td>101000.0</td>\n",
              "      <td>64300.0</td>\n",
              "      <td>161000.0</td>\n",
              "      <td>STEM</td>\n",
              "    </tr>\n",
              "    <tr>\n",
              "      <th>2</th>\n",
              "      <td>Agriculture</td>\n",
              "      <td>113700.0</td>\n",
              "      <td>42600.0</td>\n",
              "      <td>71900.0</td>\n",
              "      <td>36300.0</td>\n",
              "      <td>150000.0</td>\n",
              "      <td>Business</td>\n",
              "    </tr>\n",
              "    <tr>\n",
              "      <th>3</th>\n",
              "      <td>Anthropology</td>\n",
              "      <td>104200.0</td>\n",
              "      <td>36800.0</td>\n",
              "      <td>61500.0</td>\n",
              "      <td>33800.0</td>\n",
              "      <td>138000.0</td>\n",
              "      <td>HASS</td>\n",
              "    </tr>\n",
              "    <tr>\n",
              "      <th>4</th>\n",
              "      <td>Architecture</td>\n",
              "      <td>85400.0</td>\n",
              "      <td>41600.0</td>\n",
              "      <td>76800.0</td>\n",
              "      <td>50600.0</td>\n",
              "      <td>136000.0</td>\n",
              "      <td>Business</td>\n",
              "    </tr>\n",
              "  </tbody>\n",
              "</table>\n",
              "</div>"
            ],
            "text/plain": [
              "     Undergraduate Major    Spread  ...  Mid-Career 90th Percentile Salary     Group\n",
              "0             Accounting  109800.0  ...                           152000.0  Business\n",
              "1  Aerospace Engineering   96700.0  ...                           161000.0      STEM\n",
              "2            Agriculture  113700.0  ...                           150000.0  Business\n",
              "3           Anthropology  104200.0  ...                           138000.0      HASS\n",
              "4           Architecture   85400.0  ...                           136000.0  Business\n",
              "\n",
              "[5 rows x 7 columns]"
            ]
          },
          "metadata": {
            "tags": []
          },
          "execution_count": 21
        }
      ]
    },
    {
      "cell_type": "code",
      "metadata": {
        "colab": {
          "base_uri": "https://localhost:8080/",
          "height": 204
        },
        "id": "5zSOhhoDGQd3",
        "outputId": "305f69e2-2443-4441-b8b4-81efdd9c17c9"
      },
      "source": [
        "low_risk = clean_df.sort_values('Spread')\r\n",
        "low_risk[['Undergraduate Major', 'Spread']].head()"
      ],
      "execution_count": 22,
      "outputs": [
        {
          "output_type": "execute_result",
          "data": {
            "text/html": [
              "<div>\n",
              "<style scoped>\n",
              "    .dataframe tbody tr th:only-of-type {\n",
              "        vertical-align: middle;\n",
              "    }\n",
              "\n",
              "    .dataframe tbody tr th {\n",
              "        vertical-align: top;\n",
              "    }\n",
              "\n",
              "    .dataframe thead th {\n",
              "        text-align: right;\n",
              "    }\n",
              "</style>\n",
              "<table border=\"1\" class=\"dataframe\">\n",
              "  <thead>\n",
              "    <tr style=\"text-align: right;\">\n",
              "      <th></th>\n",
              "      <th>Undergraduate Major</th>\n",
              "      <th>Spread</th>\n",
              "    </tr>\n",
              "  </thead>\n",
              "  <tbody>\n",
              "    <tr>\n",
              "      <th>40</th>\n",
              "      <td>Nursing</td>\n",
              "      <td>50700.0</td>\n",
              "    </tr>\n",
              "    <tr>\n",
              "      <th>43</th>\n",
              "      <td>Physician Assistant</td>\n",
              "      <td>57600.0</td>\n",
              "    </tr>\n",
              "    <tr>\n",
              "      <th>41</th>\n",
              "      <td>Nutrition</td>\n",
              "      <td>65300.0</td>\n",
              "    </tr>\n",
              "    <tr>\n",
              "      <th>49</th>\n",
              "      <td>Spanish</td>\n",
              "      <td>65400.0</td>\n",
              "    </tr>\n",
              "    <tr>\n",
              "      <th>27</th>\n",
              "      <td>Health Care Administration</td>\n",
              "      <td>66400.0</td>\n",
              "    </tr>\n",
              "  </tbody>\n",
              "</table>\n",
              "</div>"
            ],
            "text/plain": [
              "           Undergraduate Major   Spread\n",
              "40                     Nursing  50700.0\n",
              "43         Physician Assistant  57600.0\n",
              "41                   Nutrition  65300.0\n",
              "49                     Spanish  65400.0\n",
              "27  Health Care Administration  66400.0"
            ]
          },
          "metadata": {
            "tags": []
          },
          "execution_count": 22
        }
      ]
    },
    {
      "cell_type": "code",
      "metadata": {
        "colab": {
          "base_uri": "https://localhost:8080/",
          "height": 204
        },
        "id": "vXmF-vIcGllF",
        "outputId": "09acea87-9ad4-4672-8d97-fc8e1049c676"
      },
      "source": [
        "highest_potential = clean_df.sort_values('Mid-Career 90th Percentile Salary', ascending=False)\r\n",
        "highest_potential[['Undergraduate Major', 'Mid-Career 90th Percentile Salary']].head()"
      ],
      "execution_count": 23,
      "outputs": [
        {
          "output_type": "execute_result",
          "data": {
            "text/html": [
              "<div>\n",
              "<style scoped>\n",
              "    .dataframe tbody tr th:only-of-type {\n",
              "        vertical-align: middle;\n",
              "    }\n",
              "\n",
              "    .dataframe tbody tr th {\n",
              "        vertical-align: top;\n",
              "    }\n",
              "\n",
              "    .dataframe thead th {\n",
              "        text-align: right;\n",
              "    }\n",
              "</style>\n",
              "<table border=\"1\" class=\"dataframe\">\n",
              "  <thead>\n",
              "    <tr style=\"text-align: right;\">\n",
              "      <th></th>\n",
              "      <th>Undergraduate Major</th>\n",
              "      <th>Mid-Career 90th Percentile Salary</th>\n",
              "    </tr>\n",
              "  </thead>\n",
              "  <tbody>\n",
              "    <tr>\n",
              "      <th>17</th>\n",
              "      <td>Economics</td>\n",
              "      <td>210000.0</td>\n",
              "    </tr>\n",
              "    <tr>\n",
              "      <th>22</th>\n",
              "      <td>Finance</td>\n",
              "      <td>195000.0</td>\n",
              "    </tr>\n",
              "    <tr>\n",
              "      <th>8</th>\n",
              "      <td>Chemical Engineering</td>\n",
              "      <td>194000.0</td>\n",
              "    </tr>\n",
              "    <tr>\n",
              "      <th>37</th>\n",
              "      <td>Math</td>\n",
              "      <td>183000.0</td>\n",
              "    </tr>\n",
              "    <tr>\n",
              "      <th>44</th>\n",
              "      <td>Physics</td>\n",
              "      <td>178000.0</td>\n",
              "    </tr>\n",
              "  </tbody>\n",
              "</table>\n",
              "</div>"
            ],
            "text/plain": [
              "     Undergraduate Major  Mid-Career 90th Percentile Salary\n",
              "17             Economics                           210000.0\n",
              "22               Finance                           195000.0\n",
              "8   Chemical Engineering                           194000.0\n",
              "37                  Math                           183000.0\n",
              "44               Physics                           178000.0"
            ]
          },
          "metadata": {
            "tags": []
          },
          "execution_count": 23
        }
      ]
    },
    {
      "cell_type": "code",
      "metadata": {
        "colab": {
          "base_uri": "https://localhost:8080/",
          "height": 204
        },
        "id": "FzVe2gSjG1RP",
        "outputId": "0c656b46-1f9e-4370-eab8-bbc54993f7f5"
      },
      "source": [
        "highest_spread = clean_df.sort_values('Spread', ascending=False)\r\n",
        "highest_spread[['Undergraduate Major', 'Spread']].head()"
      ],
      "execution_count": 24,
      "outputs": [
        {
          "output_type": "execute_result",
          "data": {
            "text/html": [
              "<div>\n",
              "<style scoped>\n",
              "    .dataframe tbody tr th:only-of-type {\n",
              "        vertical-align: middle;\n",
              "    }\n",
              "\n",
              "    .dataframe tbody tr th {\n",
              "        vertical-align: top;\n",
              "    }\n",
              "\n",
              "    .dataframe thead th {\n",
              "        text-align: right;\n",
              "    }\n",
              "</style>\n",
              "<table border=\"1\" class=\"dataframe\">\n",
              "  <thead>\n",
              "    <tr style=\"text-align: right;\">\n",
              "      <th></th>\n",
              "      <th>Undergraduate Major</th>\n",
              "      <th>Spread</th>\n",
              "    </tr>\n",
              "  </thead>\n",
              "  <tbody>\n",
              "    <tr>\n",
              "      <th>17</th>\n",
              "      <td>Economics</td>\n",
              "      <td>159400.0</td>\n",
              "    </tr>\n",
              "    <tr>\n",
              "      <th>22</th>\n",
              "      <td>Finance</td>\n",
              "      <td>147800.0</td>\n",
              "    </tr>\n",
              "    <tr>\n",
              "      <th>37</th>\n",
              "      <td>Math</td>\n",
              "      <td>137800.0</td>\n",
              "    </tr>\n",
              "    <tr>\n",
              "      <th>36</th>\n",
              "      <td>Marketing</td>\n",
              "      <td>132900.0</td>\n",
              "    </tr>\n",
              "    <tr>\n",
              "      <th>42</th>\n",
              "      <td>Philosophy</td>\n",
              "      <td>132500.0</td>\n",
              "    </tr>\n",
              "  </tbody>\n",
              "</table>\n",
              "</div>"
            ],
            "text/plain": [
              "   Undergraduate Major    Spread\n",
              "17           Economics  159400.0\n",
              "22             Finance  147800.0\n",
              "37                Math  137800.0\n",
              "36           Marketing  132900.0\n",
              "42          Philosophy  132500.0"
            ]
          },
          "metadata": {
            "tags": []
          },
          "execution_count": 24
        }
      ]
    },
    {
      "cell_type": "code",
      "metadata": {
        "colab": {
          "base_uri": "https://localhost:8080/",
          "height": 173
        },
        "id": "YULD6gIwG33H",
        "outputId": "1a7852b7-9cee-4917-e543-bc8b607940ad"
      },
      "source": [
        "clean_df.groupby('Group').mean()"
      ],
      "execution_count": 26,
      "outputs": [
        {
          "output_type": "execute_result",
          "data": {
            "text/html": [
              "<div>\n",
              "<style scoped>\n",
              "    .dataframe tbody tr th:only-of-type {\n",
              "        vertical-align: middle;\n",
              "    }\n",
              "\n",
              "    .dataframe tbody tr th {\n",
              "        vertical-align: top;\n",
              "    }\n",
              "\n",
              "    .dataframe thead th {\n",
              "        text-align: right;\n",
              "    }\n",
              "</style>\n",
              "<table border=\"1\" class=\"dataframe\">\n",
              "  <thead>\n",
              "    <tr style=\"text-align: right;\">\n",
              "      <th></th>\n",
              "      <th>Spread</th>\n",
              "      <th>Starting Median Salary</th>\n",
              "      <th>Mid-Career Median Salary</th>\n",
              "      <th>Mid-Career 10th Percentile Salary</th>\n",
              "      <th>Mid-Career 90th Percentile Salary</th>\n",
              "    </tr>\n",
              "    <tr>\n",
              "      <th>Group</th>\n",
              "      <th></th>\n",
              "      <th></th>\n",
              "      <th></th>\n",
              "      <th></th>\n",
              "      <th></th>\n",
              "    </tr>\n",
              "  </thead>\n",
              "  <tbody>\n",
              "    <tr>\n",
              "      <th>Business</th>\n",
              "      <td>103958.333333</td>\n",
              "      <td>44633.333333</td>\n",
              "      <td>75083.333333</td>\n",
              "      <td>43566.666667</td>\n",
              "      <td>147525.000000</td>\n",
              "    </tr>\n",
              "    <tr>\n",
              "      <th>HASS</th>\n",
              "      <td>95218.181818</td>\n",
              "      <td>37186.363636</td>\n",
              "      <td>62968.181818</td>\n",
              "      <td>34145.454545</td>\n",
              "      <td>129363.636364</td>\n",
              "    </tr>\n",
              "    <tr>\n",
              "      <th>STEM</th>\n",
              "      <td>101600.000000</td>\n",
              "      <td>53862.500000</td>\n",
              "      <td>90812.500000</td>\n",
              "      <td>56025.000000</td>\n",
              "      <td>157625.000000</td>\n",
              "    </tr>\n",
              "  </tbody>\n",
              "</table>\n",
              "</div>"
            ],
            "text/plain": [
              "                 Spread  ...  Mid-Career 90th Percentile Salary\n",
              "Group                    ...                                   \n",
              "Business  103958.333333  ...                      147525.000000\n",
              "HASS       95218.181818  ...                      129363.636364\n",
              "STEM      101600.000000  ...                      157625.000000\n",
              "\n",
              "[3 rows x 5 columns]"
            ]
          },
          "metadata": {
            "tags": []
          },
          "execution_count": 26
        }
      ]
    },
    {
      "cell_type": "code",
      "metadata": {
        "id": "Qrnoc6FZHL3X"
      },
      "source": [
        ""
      ],
      "execution_count": null,
      "outputs": []
    }
  ]
}